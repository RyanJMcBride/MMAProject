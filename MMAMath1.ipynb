{
 "cells": [
  {
   "cell_type": "markdown",
   "metadata": {},
   "source": []
  },
  {
   "cell_type": "code",
   "execution_count": 911,
   "metadata": {},
   "outputs": [],
   "source": [
    "import pandas as pd\n",
    "import numpy as np\n",
    "import collections\n",
    "df = pd.read_csv('/Users/user/programmingProjects/UFC_Fight_Data_new.csv')"
   ]
  },
  {
   "cell_type": "markdown",
   "metadata": {},
   "source": [
    "Build dictionary of fighters and their fights"
   ]
  },
  {
   "cell_type": "code",
   "execution_count": 912,
   "metadata": {},
   "outputs": [],
   "source": [
    "fwin = df[df.win == 1] #fights that had a winner\n",
    "flist = pd.concat([fwin['F1'], fwin['F2']]).unique() \n",
    "fightdict = dict()\n",
    "fightdictdispose = dict() # used for crossing off fighters who have had their sequences recorded"
   ]
  },
  {
   "cell_type": "markdown",
   "metadata": {},
   "source": [
    "The code below aims to build a dictionary of fighters opponents in a format that will allow set operations easily"
   ]
  },
  {
   "cell_type": "code",
   "execution_count": 913,
   "metadata": {},
   "outputs": [],
   "source": [
    "for fighter in flist:\n",
    "    tempstore = []\n",
    "    fights1 = fwin[fwin.F1 == fighter]\n",
    "    fights2 = fwin[fwin.F2 == fighter]\n",
    "    fights12 = fights1.append(fights2)\n",
    "    fightdict[fighter] = fights12 #the full fighter dictionary (all data)\n",
    "    \n",
    "    #tempstore not used anymore\n",
    "    for i in range(len(fights12.F1)):\n",
    "        if fighter!=fights12.F1.iloc[i]:\n",
    "            tempstore.append([fights12.F1.iloc[i],fights12.Date.iloc[i],0])\n",
    "        else:\n",
    "            tempstore.append([fights12.F2.iloc[i],fights12.Date.iloc[i],1])\n",
    "        \n",
    "    fightdictdispose[fighter] = tempstore\n",
    "        \n",
    "\n",
    "    \n",
    "    "
   ]
  },
  {
   "cell_type": "markdown",
   "metadata": {},
   "source": [
    "Use fight dictionaries to find 3 fight sequences, taking consideration for fighters who have fought multiple times"
   ]
  },
  {
   "cell_type": "code",
   "execution_count": 914,
   "metadata": {},
   "outputs": [],
   "source": [
    "storage = list()\n",
    "\n",
    "for index, row in fwin.iterrows():\n",
    "    \n",
    "    ftr1 = row['F1']\n",
    "    ftr2 = row['F2']\n",
    "\n",
    "    for key in fightdict:\n",
    "       \n",
    "        if ((ftr1 in set(fightdict[key].F1) or ftr1 in set(fightdict[key].F2)) and (ftr2 in set(fightdict[key].F1) or ftr2 in set(fightdict[key].F2)) and ftr1!=key and ftr2!=key):                \n",
    "            cont = fightdict[key]\n",
    "            contlistf11 = fightdict[key].loc[fightdict[key].F1 == ftr1] \n",
    "            contlistf12 = fightdict[key].loc[fightdict[key].F2 == ftr1]\n",
    "            sd = contlistf11.append(contlistf12) # recording all rows in fightdict[key] which contains ftr1\n",
    "            contlistf21 = fightdict[key].loc[fightdict[key].F1 == ftr2]\n",
    "            contlistf22 = fightdict[key].loc[fightdict[key].F2 == ftr2]\n",
    "            sds = contlistf21.append(contlistf22) # recording all rows in fightdict[key] which contains ftr2\n",
    "            \n",
    "            for fight1,row1 in sd.iterrows():\n",
    "                \n",
    "                for fight2,row2 in sds.iterrows():\n",
    "                    new = [index, fight1, fight2]    \n",
    "                    storage.append(new)\n",
    "                    \n",
    "# This code works by looking at each fight (F1 vs F2), and then searching through all fighters in fightdict\n",
    "# and checking whether both fighters (F1 & F2) are contained in the fighter 3's fightdict\n",
    "# If so, record the sequence in storage list\n",
    "        \n",
    "        \n",
    "            "
   ]
  },
  {
   "cell_type": "markdown",
   "metadata": {},
   "source": [
    "Verifying that fight sequences are not repeated"
   ]
  },
  {
   "cell_type": "code",
   "execution_count": 915,
   "metadata": {},
   "outputs": [],
   "source": [
    "\n",
    "storageset = set([frozenset(storage[i]) for i in range(len(storage))]) #frozenset allows set of sets to work\n",
    "# converting to set removes repeated fight combinations\n",
    "storagefin = list(storageset) #convert back to list so its indexable for next step\n",
    "storagefin = [list(storagefin[i]) for i in range(len(storagefin))] #converting each element into a list \n",
    "        "
   ]
  },
  {
   "cell_type": "code",
   "execution_count": 916,
   "metadata": {},
   "outputs": [
    {
     "name": "stdout",
     "output_type": "stream",
     "text": [
      "0.8124625524266027\n"
     ]
    }
   ],
   "source": [
    "nomath = 0\n",
    "math = 0\n",
    "\n",
    "for i in range(len(storagefin)):\n",
    "    set1 = [fwin.F1.loc[storagefin[i][0]], fwin.F1.loc[storagefin[i][1]], fwin.F1.loc[storagefin[i][2]]]\n",
    "    set2 = [fwin.F2.loc[storagefin[i][0]], fwin.F2.loc[storagefin[i][1]], fwin.F2.loc[storagefin[i][2]]]\n",
    "    \n",
    "    if collections.Counter(set1) == collections.Counter(set2):\n",
    "        nomath = nomath+1\n",
    "    else:\n",
    "        math = math+1\n",
    "        \n",
    "print(1-nomath/math)"
   ]
  },
  {
   "cell_type": "code",
   "execution_count": null,
   "metadata": {},
   "outputs": [],
   "source": []
  },
  {
   "cell_type": "code",
   "execution_count": null,
   "metadata": {},
   "outputs": [],
   "source": []
  }
 ],
 "metadata": {
  "kernelspec": {
   "display_name": "Python 3",
   "language": "python",
   "name": "python3"
  },
  "language_info": {
   "codemirror_mode": {
    "name": "ipython",
    "version": 3
   },
   "file_extension": ".py",
   "mimetype": "text/x-python",
   "name": "python",
   "nbconvert_exporter": "python",
   "pygments_lexer": "ipython3",
   "version": "3.8.3"
  }
 },
 "nbformat": 4,
 "nbformat_minor": 4
}
