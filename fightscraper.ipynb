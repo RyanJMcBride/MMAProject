{
 "cells": [
  {
   "cell_type": "code",
   "execution_count": 1,
   "metadata": {},
   "outputs": [
    {
     "name": "stdout",
     "output_type": "stream",
     "text": [
      "200\n"
     ]
    }
   ],
   "source": [
    "import requests\n",
    "import pandas as pd\n",
    "from datetime import datetime\n",
    "from bs4 import BeautifulSoup\n",
    "result = requests.get(\"http://ufcstats.com/statistics/events/completed?page=all\") #USE PAGE WITH ALL EVENTS NOT PAGINATION\n",
    "print(result.status_code)\n",
    "src = result.content\n",
    "soup = BeautifulSoup(src,'lxml')"
   ]
  },
  {
   "cell_type": "markdown",
   "metadata": {},
   "source": [
    "GETTING NAMES AND HYPERLINKS FOR EACH EVENT, AND TRIMMING NON USEFUL LINKS AND TEXT"
   ]
  },
  {
   "cell_type": "code",
   "execution_count": 2,
   "metadata": {},
   "outputs": [],
   "source": [
    "eventname = []\n",
    "links = soup.find_all(\"a\")\n",
    "hyperlinks = []\n",
    "del links[0:7] \n",
    "del links[(len(links)-16): (len(links))] #CHANGE HERE AS NEW FIGHTS ARE ADDED\n",
    "for link in links:\n",
    "    linka = link.text.replace('\\n                          ','')\n",
    "    linkb = linka.replace('\\n                        ','')\n",
    "    eventname.append(linkb)\n",
    "    hyperlinks.append(link.attrs['href'])\n"
   ]
  },
  {
   "cell_type": "markdown",
   "metadata": {},
   "source": [
    "GETTING LIST OF DATES (DATES NOT YET ASSIGNED TO EACH FIGHT, THIS WILL BE DONE LATER)"
   ]
  },
  {
   "cell_type": "code",
   "execution_count": 3,
   "metadata": {},
   "outputs": [],
   "source": [
    "findspan = soup.find_all('span')\n",
    "findspantext= []\n",
    "finspantext1 = []\n",
    "date = []\n",
    "for i in range(len(findspan)):\n",
    "    findspantext = findspan[i].text.replace('\\n                          ', '')\n",
    "    findspantext1 = findspantext.replace('\\n                        ', '')\n",
    "    date.append(findspantext1)\n",
    "   "
   ]
  },
  {
   "cell_type": "markdown",
   "metadata": {},
   "source": [
    "CHANGING THE DATE FORMAT (SAME AS EVENT NAMES, NOT ASSIGNED YET)"
   ]
  },
  {
   "cell_type": "code",
   "execution_count": 4,
   "metadata": {},
   "outputs": [],
   "source": [
    "dateformatted= []\n",
    "date.remove(date[-1])      #removing first and last dates as they are not part of the data\n",
    "date.remove(date[0])\n",
    "for i in range(len(date)):\n",
    "    fdate = date[i]\n",
    "    d = datetime.strptime(fdate, '%B %d, %Y')\n",
    "    dateformatted.append(d.strftime('%Y-%m-%d'))\n"
   ]
  },
  {
   "cell_type": "markdown",
   "metadata": {},
   "source": [
    "GETTING FIGHTER NAMES, WIN/DRAW/NC AND ASSIGNING DATES AND EVENT NAMES"
   ]
  },
  {
   "cell_type": "code",
   "execution_count": 5,
   "metadata": {},
   "outputs": [],
   "source": [
    "f1 = []\n",
    "f2 = []\n",
    "win = []\n",
    "draw = []\n",
    "nc = []\n",
    "datefinal = []\n",
    "eventfinal = []\n",
    "count =0\n",
    "\n",
    "for link in hyperlinks:\n",
    "    \n",
    "    eventtemp = eventname[count]\n",
    "    datetemp = dateformatted[count]\n",
    "    count = count+1\n",
    "    \n",
    "    eventreq = requests.get(link)    \n",
    "    eventsrc = eventreq.content\n",
    "    eventsoup = BeautifulSoup(eventsrc,'lxml')\n",
    "   \n",
    "    fightbranch = eventsoup.body.table.tbody.find_all('tr')\n",
    "    \n",
    "    \n",
    "    if (eventreq.status_code != '200'):\n",
    "    \n",
    "        for i in range(len(fightbranch)):\n",
    "\n",
    "            databranch = fightbranch[i].find_all('td')\n",
    "            databranch1 = databranch[1]\n",
    "            pbranch = databranch1.find_all('p')\n",
    "            f1branch = pbranch[0].text\n",
    "            f2branch = pbranch[1].text\n",
    "            f1.append(f1branch)\n",
    "            f2.append(f2branch)\n",
    "            datefinal.append(datetemp)\n",
    "            eventfinal.append(eventtemp)\n",
    "\n",
    "\n",
    "            \n",
    "            \n",
    "            if (fightbranch[i].td.p.a.text == 'win'):\n",
    "\n",
    "                win.append('1')\n",
    "                draw.append('0')\n",
    "                nc.append('0')\n",
    "\n",
    "            elif (fightbranch[i].td.p.a.text == 'draw'):\n",
    "\n",
    "                win.append('0')\n",
    "                draw.append('1')\n",
    "                nc.append('0')\n",
    "\n",
    "            elif (fightbranch[i].td.p.a.text == 'nc'):\n",
    "\n",
    "                win.append('0')\n",
    "                draw.append('0')\n",
    "                nc.append('1')\n",
    "\n",
    "            else:\n",
    "\n",
    "                print('not win, draw or nc')\n",
    "\n",
    "    else:\n",
    "\n",
    "        print('link didnt work')\n",
    "        \n",
    "    "
   ]
  },
  {
   "cell_type": "code",
   "execution_count": 6,
   "metadata": {},
   "outputs": [],
   "source": [
    "for i in range(len(f1)):\n",
    "    f1[i] = f1[i].replace('\\n\\n              ','')\n",
    "    f1[i] = f1[i].replace('\\n            \\n','')\n",
    "    f2[i] = f2[i].replace('\\n\\n              ','')\n",
    "    f2[i] = f2[i].replace('\\n            \\n','')"
   ]
  },
  {
   "cell_type": "markdown",
   "metadata": {},
   "source": [
    "TURN LISTS INTO DATAFRAME AND EXPORT TO CSV"
   ]
  },
  {
   "cell_type": "code",
   "execution_count": 7,
   "metadata": {},
   "outputs": [],
   "source": [
    "UFC_Data = pd.DataFrame({'Date': datefinal, 'Event': eventfinal, 'F1': f1, 'F2': f2 ,'win': win, 'draw': draw, 'nc': nc})"
   ]
  },
  {
   "cell_type": "code",
   "execution_count": 8,
   "metadata": {},
   "outputs": [],
   "source": [
    "UFC_Data.to_csv('UFC_Fight_Data_new.csv', index = False)"
   ]
  },
  {
   "cell_type": "code",
   "execution_count": null,
   "metadata": {},
   "outputs": [],
   "source": []
  }
 ],
 "metadata": {
  "kernelspec": {
   "display_name": "Python 3",
   "language": "python",
   "name": "python3"
  },
  "language_info": {
   "codemirror_mode": {
    "name": "ipython",
    "version": 3
   },
   "file_extension": ".py",
   "mimetype": "text/x-python",
   "name": "python",
   "nbconvert_exporter": "python",
   "pygments_lexer": "ipython3",
   "version": "3.8.3"
  }
 },
 "nbformat": 4,
 "nbformat_minor": 4
}
